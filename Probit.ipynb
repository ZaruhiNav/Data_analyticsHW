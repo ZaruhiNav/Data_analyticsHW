{
 "cells": [
  {
   "cell_type": "code",
   "execution_count": 3,
   "metadata": {},
   "outputs": [],
   "source": [
    "import pandas as pd\n",
    "import numpy as np\n",
    "from statsmodels.discrete.discrete_model import Probit\n",
    "import statsmodels.api as sm"
   ]
  },
  {
   "cell_type": "code",
   "execution_count": 4,
   "metadata": {},
   "outputs": [],
   "source": [
    "df=pd.read_stata('nels_small.dta')"
   ]
  },
  {
   "cell_type": "code",
   "execution_count": 5,
   "metadata": {},
   "outputs": [
    {
     "data": {
      "text/html": [
       "<div>\n",
       "<style scoped>\n",
       "    .dataframe tbody tr th:only-of-type {\n",
       "        vertical-align: middle;\n",
       "    }\n",
       "\n",
       "    .dataframe tbody tr th {\n",
       "        vertical-align: top;\n",
       "    }\n",
       "\n",
       "    .dataframe thead th {\n",
       "        text-align: right;\n",
       "    }\n",
       "</style>\n",
       "<table border=\"1\" class=\"dataframe\">\n",
       "  <thead>\n",
       "    <tr style=\"text-align: right;\">\n",
       "      <th></th>\n",
       "      <th>psechoice</th>\n",
       "      <th>hscath</th>\n",
       "      <th>grades</th>\n",
       "      <th>faminc</th>\n",
       "      <th>famsiz</th>\n",
       "      <th>parcoll</th>\n",
       "      <th>female</th>\n",
       "      <th>black</th>\n",
       "    </tr>\n",
       "  </thead>\n",
       "  <tbody>\n",
       "    <tr>\n",
       "      <th>0</th>\n",
       "      <td>2</td>\n",
       "      <td>0</td>\n",
       "      <td>9.08</td>\n",
       "      <td>62.5</td>\n",
       "      <td>5</td>\n",
       "      <td>0</td>\n",
       "      <td>0</td>\n",
       "      <td>0</td>\n",
       "    </tr>\n",
       "    <tr>\n",
       "      <th>1</th>\n",
       "      <td>2</td>\n",
       "      <td>0</td>\n",
       "      <td>8.31</td>\n",
       "      <td>42.5</td>\n",
       "      <td>4</td>\n",
       "      <td>0</td>\n",
       "      <td>1</td>\n",
       "      <td>0</td>\n",
       "    </tr>\n",
       "    <tr>\n",
       "      <th>2</th>\n",
       "      <td>3</td>\n",
       "      <td>0</td>\n",
       "      <td>7.42</td>\n",
       "      <td>62.5</td>\n",
       "      <td>4</td>\n",
       "      <td>0</td>\n",
       "      <td>1</td>\n",
       "      <td>0</td>\n",
       "    </tr>\n",
       "    <tr>\n",
       "      <th>3</th>\n",
       "      <td>3</td>\n",
       "      <td>0</td>\n",
       "      <td>7.42</td>\n",
       "      <td>62.5</td>\n",
       "      <td>4</td>\n",
       "      <td>0</td>\n",
       "      <td>1</td>\n",
       "      <td>0</td>\n",
       "    </tr>\n",
       "    <tr>\n",
       "      <th>4</th>\n",
       "      <td>3</td>\n",
       "      <td>0</td>\n",
       "      <td>7.42</td>\n",
       "      <td>62.5</td>\n",
       "      <td>4</td>\n",
       "      <td>0</td>\n",
       "      <td>1</td>\n",
       "      <td>0</td>\n",
       "    </tr>\n",
       "  </tbody>\n",
       "</table>\n",
       "</div>"
      ],
      "text/plain": [
       "   psechoice  hscath  grades  faminc  famsiz  parcoll  female  black\n",
       "0          2       0    9.08    62.5       5        0       0      0\n",
       "1          2       0    8.31    42.5       4        0       1      0\n",
       "2          3       0    7.42    62.5       4        0       1      0\n",
       "3          3       0    7.42    62.5       4        0       1      0\n",
       "4          3       0    7.42    62.5       4        0       1      0"
      ]
     },
     "execution_count": 5,
     "metadata": {},
     "output_type": "execute_result"
    }
   ],
   "source": [
    "df.head()"
   ]
  },
  {
   "cell_type": "code",
   "execution_count": 6,
   "metadata": {},
   "outputs": [
    {
     "data": {
      "text/plain": [
       "psechoice    False\n",
       "hscath       False\n",
       "grades       False\n",
       "faminc       False\n",
       "famsiz       False\n",
       "parcoll      False\n",
       "female       False\n",
       "black        False\n",
       "dtype: bool"
      ]
     },
     "execution_count": 6,
     "metadata": {},
     "output_type": "execute_result"
    }
   ],
   "source": [
    "df.isnull().any()"
   ]
  },
  {
   "cell_type": "markdown",
   "metadata": {},
   "source": [
    "# a)"
   ]
  },
  {
   "cell_type": "code",
   "execution_count": 7,
   "metadata": {},
   "outputs": [],
   "source": [
    "df[\"COLLEGE\"]=np.where(df.psechoice==1,0,1)"
   ]
  },
  {
   "cell_type": "code",
   "execution_count": 8,
   "metadata": {},
   "outputs": [
    {
     "data": {
      "text/plain": [
       "77.8"
      ]
     },
     "execution_count": 8,
     "metadata": {},
     "output_type": "execute_result"
    }
   ],
   "source": [
    "len(df[df.COLLEGE==1])*100/len(df)"
   ]
  },
  {
   "cell_type": "markdown",
   "metadata": {},
   "source": [
    "(b)\tEstimate a probit model explaining COLLEGE, using as explanatory variables GRADES, \n",
    "13-point scale with 1 indicating the highest grade and 13 the lowest; FAMINC, gross family income in $1,000 increments; \n",
    "FAMSIZ, number of family members; PARCOLL = 1 if the most educated parent had a college degree; FEMALE = 1 if female; \n",
    "and BLACK = 1 if black. Are the signs of the estimated coefficients consistent with your expectations? Explain. \n",
    "Are the estimated coefficients statistically significant?"
   ]
  },
  {
   "cell_type": "code",
   "execution_count": 13,
   "metadata": {},
   "outputs": [],
   "source": [
    "Y=df.COLLEGE\n",
    "X=df.drop([\"COLLEGE\",\"psechoice\",'hscath'],axis=1)"
   ]
  },
  {
   "cell_type": "code",
   "execution_count": 14,
   "metadata": {},
   "outputs": [
    {
     "name": "stdout",
     "output_type": "stream",
     "text": [
      "Optimization terminated successfully.\n",
      "         Current function value: 0.468360\n",
      "         Iterations 6\n"
     ]
    },
    {
     "data": {
      "text/html": [
       "<table class=\"simpletable\">\n",
       "<caption>Probit Regression Results</caption>\n",
       "<tr>\n",
       "  <th>Dep. Variable:</th>      <td>COLLEGE</td>     <th>  No. Observations:  </th>  <td>  1000</td>  \n",
       "</tr>\n",
       "<tr>\n",
       "  <th>Model:</th>              <td>Probit</td>      <th>  Df Residuals:      </th>  <td>   994</td>  \n",
       "</tr>\n",
       "<tr>\n",
       "  <th>Method:</th>               <td>MLE</td>       <th>  Df Model:          </th>  <td>     5</td>  \n",
       "</tr>\n",
       "<tr>\n",
       "  <th>Date:</th>          <td>Wed, 17 Apr 2019</td> <th>  Pseudo R-squ.:     </th>  <td>0.1153</td>  \n",
       "</tr>\n",
       "<tr>\n",
       "  <th>Time:</th>              <td>18:01:46</td>     <th>  Log-Likelihood:    </th> <td> -468.36</td> \n",
       "</tr>\n",
       "<tr>\n",
       "  <th>converged:</th>           <td>True</td>       <th>  LL-Null:           </th> <td> -529.43</td> \n",
       "</tr>\n",
       "<tr>\n",
       "  <th> </th>                      <td> </td>        <th>  LLR p-value:       </th> <td>1.107e-24</td>\n",
       "</tr>\n",
       "</table>\n",
       "<table class=\"simpletable\">\n",
       "<tr>\n",
       "     <td></td>        <th>coef</th>     <th>std err</th>      <th>z</th>      <th>P>|z|</th>  <th>[0.025</th>    <th>0.975]</th>  \n",
       "</tr>\n",
       "<tr>\n",
       "  <th>grades</th>  <td>   -0.1035</td> <td>    0.017</td> <td>   -6.254</td> <td> 0.000</td> <td>   -0.136</td> <td>   -0.071</td>\n",
       "</tr>\n",
       "<tr>\n",
       "  <th>faminc</th>  <td>    0.0086</td> <td>    0.002</td> <td>    4.860</td> <td> 0.000</td> <td>    0.005</td> <td>    0.012</td>\n",
       "</tr>\n",
       "<tr>\n",
       "  <th>famsiz</th>  <td>    0.1624</td> <td>    0.030</td> <td>    5.356</td> <td> 0.000</td> <td>    0.103</td> <td>    0.222</td>\n",
       "</tr>\n",
       "<tr>\n",
       "  <th>parcoll</th> <td>    0.6601</td> <td>    0.131</td> <td>    5.026</td> <td> 0.000</td> <td>    0.403</td> <td>    0.918</td>\n",
       "</tr>\n",
       "<tr>\n",
       "  <th>female</th>  <td>    0.3249</td> <td>    0.092</td> <td>    3.550</td> <td> 0.000</td> <td>    0.146</td> <td>    0.504</td>\n",
       "</tr>\n",
       "<tr>\n",
       "  <th>black</th>   <td>    0.5637</td> <td>    0.211</td> <td>    2.677</td> <td> 0.007</td> <td>    0.151</td> <td>    0.976</td>\n",
       "</tr>\n",
       "</table>"
      ],
      "text/plain": [
       "<class 'statsmodels.iolib.summary.Summary'>\n",
       "\"\"\"\n",
       "                          Probit Regression Results                           \n",
       "==============================================================================\n",
       "Dep. Variable:                COLLEGE   No. Observations:                 1000\n",
       "Model:                         Probit   Df Residuals:                      994\n",
       "Method:                           MLE   Df Model:                            5\n",
       "Date:                Wed, 17 Apr 2019   Pseudo R-squ.:                  0.1153\n",
       "Time:                        18:01:46   Log-Likelihood:                -468.36\n",
       "converged:                       True   LL-Null:                       -529.43\n",
       "                                        LLR p-value:                 1.107e-24\n",
       "==============================================================================\n",
       "                 coef    std err          z      P>|z|      [0.025      0.975]\n",
       "------------------------------------------------------------------------------\n",
       "grades        -0.1035      0.017     -6.254      0.000      -0.136      -0.071\n",
       "faminc         0.0086      0.002      4.860      0.000       0.005       0.012\n",
       "famsiz         0.1624      0.030      5.356      0.000       0.103       0.222\n",
       "parcoll        0.6601      0.131      5.026      0.000       0.403       0.918\n",
       "female         0.3249      0.092      3.550      0.000       0.146       0.504\n",
       "black          0.5637      0.211      2.677      0.007       0.151       0.976\n",
       "==============================================================================\n",
       "\"\"\""
      ]
     },
     "execution_count": 14,
     "metadata": {},
     "output_type": "execute_result"
    }
   ],
   "source": [
    "probit = sm.Probit(Y,X)\n",
    "result = probit.fit()\n",
    "result.summary()"
   ]
  },
  {
   "cell_type": "markdown",
   "metadata": {},
   "source": [
    "As expected all the variables are statistically significant and all variables have positive coefficients except grades\n",
    "\n",
    "The ones that were not expected by me are:\n",
    "\n",
    "-black, meaning that blacks are more prone to go to college than not blacks\n",
    "\n",
    "-family size meaning that the bigger the family the higher the chance to go to college\n",
    "\n",
    "-grade has a negative one as the smaller the number the better the grade"
   ]
  },
  {
   "cell_type": "markdown",
   "metadata": {},
   "source": [
    "# c)"
   ]
  },
  {
   "cell_type": "code",
   "execution_count": 23,
   "metadata": {},
   "outputs": [
    {
     "data": {
      "text/plain": [
       "array([0.98889305])"
      ]
     },
     "execution_count": 23,
     "metadata": {},
     "output_type": "execute_result"
    }
   ],
   "source": [
    "sample=[5,df.faminc.mean(),5,1,1,1]\n",
    "result.predict(sample)"
   ]
  },
  {
   "cell_type": "code",
   "execution_count": 22,
   "metadata": {},
   "outputs": [
    {
     "data": {
      "text/plain": [
       "array([0.96156268])"
      ]
     },
     "execution_count": 22,
     "metadata": {},
     "output_type": "execute_result"
    }
   ],
   "source": [
    "sample=[10,df.faminc.mean(),5,1,1,1]\n",
    "result.predict(sample)"
   ]
  },
  {
   "cell_type": "markdown",
   "metadata": {},
   "source": [
    "# d)"
   ]
  },
  {
   "cell_type": "code",
   "execution_count": 21,
   "metadata": {},
   "outputs": [
    {
     "data": {
      "text/plain": [
       "array([0.88598708])"
      ]
     },
     "execution_count": 21,
     "metadata": {},
     "output_type": "execute_result"
    }
   ],
   "source": [
    "sample=[10,df.faminc.mean(),5,1,1,0]\n",
    "result.predict(sample)"
   ]
  },
  {
   "cell_type": "code",
   "execution_count": 24,
   "metadata": {},
   "outputs": [
    {
     "data": {
      "text/plain": [
       "array([0.81073187])"
      ]
     },
     "execution_count": 24,
     "metadata": {},
     "output_type": "execute_result"
    }
   ],
   "source": [
    "sample=[10,df.faminc.mean(),5,1,0,0]\n",
    "result.predict(sample)"
   ]
  },
  {
   "cell_type": "markdown",
   "metadata": {},
   "source": [
    "# e)"
   ]
  },
  {
   "cell_type": "code",
   "execution_count": 25,
   "metadata": {},
   "outputs": [],
   "source": [
    "X_new=X.drop([\"parcoll\",\"black\",'female'],axis=1)"
   ]
  },
  {
   "cell_type": "code",
   "execution_count": 26,
   "metadata": {},
   "outputs": [
    {
     "name": "stdout",
     "output_type": "stream",
     "text": [
      "Optimization terminated successfully.\n",
      "         Current function value: 0.491659\n",
      "         Iterations 6\n"
     ]
    },
    {
     "data": {
      "text/html": [
       "<table class=\"simpletable\">\n",
       "<caption>Probit Regression Results</caption>\n",
       "<tr>\n",
       "  <th>Dep. Variable:</th>      <td>COLLEGE</td>     <th>  No. Observations:  </th>  <td>  1000</td>  \n",
       "</tr>\n",
       "<tr>\n",
       "  <th>Model:</th>              <td>Probit</td>      <th>  Df Residuals:      </th>  <td>   997</td>  \n",
       "</tr>\n",
       "<tr>\n",
       "  <th>Method:</th>               <td>MLE</td>       <th>  Df Model:          </th>  <td>     2</td>  \n",
       "</tr>\n",
       "<tr>\n",
       "  <th>Date:</th>          <td>Wed, 17 Apr 2019</td> <th>  Pseudo R-squ.:     </th>  <td>0.07134</td> \n",
       "</tr>\n",
       "<tr>\n",
       "  <th>Time:</th>              <td>18:34:25</td>     <th>  Log-Likelihood:    </th> <td> -491.66</td> \n",
       "</tr>\n",
       "<tr>\n",
       "  <th>converged:</th>           <td>True</td>       <th>  LL-Null:           </th> <td> -529.43</td> \n",
       "</tr>\n",
       "<tr>\n",
       "  <th> </th>                      <td> </td>        <th>  LLR p-value:       </th> <td>3.958e-17</td>\n",
       "</tr>\n",
       "</table>\n",
       "<table class=\"simpletable\">\n",
       "<tr>\n",
       "     <td></td>       <th>coef</th>     <th>std err</th>      <th>z</th>      <th>P>|z|</th>  <th>[0.025</th>    <th>0.975]</th>  \n",
       "</tr>\n",
       "<tr>\n",
       "  <th>grades</th> <td>   -0.0978</td> <td>    0.016</td> <td>   -6.263</td> <td> 0.000</td> <td>   -0.128</td> <td>   -0.067</td>\n",
       "</tr>\n",
       "<tr>\n",
       "  <th>faminc</th> <td>    0.0125</td> <td>    0.002</td> <td>    7.774</td> <td> 0.000</td> <td>    0.009</td> <td>    0.016</td>\n",
       "</tr>\n",
       "<tr>\n",
       "  <th>famsiz</th> <td>    0.1868</td> <td>    0.029</td> <td>    6.486</td> <td> 0.000</td> <td>    0.130</td> <td>    0.243</td>\n",
       "</tr>\n",
       "</table>"
      ],
      "text/plain": [
       "<class 'statsmodels.iolib.summary.Summary'>\n",
       "\"\"\"\n",
       "                          Probit Regression Results                           \n",
       "==============================================================================\n",
       "Dep. Variable:                COLLEGE   No. Observations:                 1000\n",
       "Model:                         Probit   Df Residuals:                      997\n",
       "Method:                           MLE   Df Model:                            2\n",
       "Date:                Wed, 17 Apr 2019   Pseudo R-squ.:                 0.07134\n",
       "Time:                        18:34:25   Log-Likelihood:                -491.66\n",
       "converged:                       True   LL-Null:                       -529.43\n",
       "                                        LLR p-value:                 3.958e-17\n",
       "==============================================================================\n",
       "                 coef    std err          z      P>|z|      [0.025      0.975]\n",
       "------------------------------------------------------------------------------\n",
       "grades        -0.0978      0.016     -6.263      0.000      -0.128      -0.067\n",
       "faminc         0.0125      0.002      7.774      0.000       0.009       0.016\n",
       "famsiz         0.1868      0.029      6.486      0.000       0.130       0.243\n",
       "==============================================================================\n",
       "\"\"\""
      ]
     },
     "execution_count": 26,
     "metadata": {},
     "output_type": "execute_result"
    }
   ],
   "source": [
    "probit = sm.Probit(Y,X_new)\n",
    "result = probit.fit()\n",
    "result.summary()"
   ]
  },
  {
   "cell_type": "markdown",
   "metadata": {},
   "source": [
    "the remaning variables were and stay siginificant, the direction of their effect also is the same"
   ]
  },
  {
   "cell_type": "code",
   "execution_count": null,
   "metadata": {},
   "outputs": [],
   "source": []
  }
 ],
 "metadata": {
  "kernelspec": {
   "display_name": "Python 3",
   "language": "python",
   "name": "python3"
  },
  "language_info": {
   "codemirror_mode": {
    "name": "ipython",
    "version": 3
   },
   "file_extension": ".py",
   "mimetype": "text/x-python",
   "name": "python",
   "nbconvert_exporter": "python",
   "pygments_lexer": "ipython3",
   "version": "3.6.5"
  }
 },
 "nbformat": 4,
 "nbformat_minor": 2
}
