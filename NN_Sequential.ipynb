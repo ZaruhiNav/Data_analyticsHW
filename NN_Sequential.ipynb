{
 "cells": [
  {
   "cell_type": "code",
   "execution_count": 2,
   "metadata": {},
   "outputs": [],
   "source": [
    "# Data Imports\n",
    "import numpy as np\n",
    "import pandas as pd\n",
    "from pandas import Series,DataFrame\n",
    "\n",
    "# Math\n",
    "import math\n",
    "\n",
    "# Plot imports\n",
    "import matplotlib.pyplot as plt\n",
    "import seaborn as sns\n",
    "sns.set_style('whitegrid')\n",
    "\n",
    "# Machine Learning Imports\n",
    "from sklearn.linear_model import LogisticRegression\n",
    "from sklearn.model_selection import train_test_split\n",
    "from sklearn.metrics import *\n",
    "\n",
    "\n",
    "# Dataset Import\n",
    "import statsmodels.api as sm"
   ]
  },
  {
   "cell_type": "code",
   "execution_count": 3,
   "metadata": {},
   "outputs": [
    {
     "name": "stderr",
     "output_type": "stream",
     "text": [
      "C:\\Users\\Acer\\Anaconda2\\lib\\site-packages\\h5py\\__init__.py:36: FutureWarning: Conversion of the second argument of issubdtype from `float` to `np.floating` is deprecated. In future, it will be treated as `np.float64 == np.dtype(float).type`.\n",
      "  from ._conv import register_converters as _register_converters\n",
      "Using TensorFlow backend.\n"
     ]
    }
   ],
   "source": [
    "import keras\n",
    "from keras.models import Sequential\n",
    "from keras.layers import Dense, Dropout, BatchNormalization\n",
    "from keras.regularizers import l1, l2, l1_l2\n",
    "from keras import optimizers\n",
    "from keras.models import load_model"
   ]
  },
  {
   "cell_type": "code",
   "execution_count": 4,
   "metadata": {},
   "outputs": [],
   "source": [
    "df = sm.datasets.fair.load_pandas().data"
   ]
  },
  {
   "cell_type": "code",
   "execution_count": 5,
   "metadata": {},
   "outputs": [
    {
     "data": {
      "text/html": [
       "<div>\n",
       "<style scoped>\n",
       "    .dataframe tbody tr th:only-of-type {\n",
       "        vertical-align: middle;\n",
       "    }\n",
       "\n",
       "    .dataframe tbody tr th {\n",
       "        vertical-align: top;\n",
       "    }\n",
       "\n",
       "    .dataframe thead th {\n",
       "        text-align: right;\n",
       "    }\n",
       "</style>\n",
       "<table border=\"1\" class=\"dataframe\">\n",
       "  <thead>\n",
       "    <tr style=\"text-align: right;\">\n",
       "      <th></th>\n",
       "      <th>rate_marriage</th>\n",
       "      <th>age</th>\n",
       "      <th>yrs_married</th>\n",
       "      <th>children</th>\n",
       "      <th>religious</th>\n",
       "      <th>educ</th>\n",
       "      <th>occupation</th>\n",
       "      <th>occupation_husb</th>\n",
       "      <th>affairs</th>\n",
       "    </tr>\n",
       "  </thead>\n",
       "  <tbody>\n",
       "    <tr>\n",
       "      <th>0</th>\n",
       "      <td>3.0</td>\n",
       "      <td>32.0</td>\n",
       "      <td>9.0</td>\n",
       "      <td>3.0</td>\n",
       "      <td>3.0</td>\n",
       "      <td>17.0</td>\n",
       "      <td>2.0</td>\n",
       "      <td>5.0</td>\n",
       "      <td>0.111111</td>\n",
       "    </tr>\n",
       "    <tr>\n",
       "      <th>1</th>\n",
       "      <td>3.0</td>\n",
       "      <td>27.0</td>\n",
       "      <td>13.0</td>\n",
       "      <td>3.0</td>\n",
       "      <td>1.0</td>\n",
       "      <td>14.0</td>\n",
       "      <td>3.0</td>\n",
       "      <td>4.0</td>\n",
       "      <td>3.230769</td>\n",
       "    </tr>\n",
       "    <tr>\n",
       "      <th>2</th>\n",
       "      <td>4.0</td>\n",
       "      <td>22.0</td>\n",
       "      <td>2.5</td>\n",
       "      <td>0.0</td>\n",
       "      <td>1.0</td>\n",
       "      <td>16.0</td>\n",
       "      <td>3.0</td>\n",
       "      <td>5.0</td>\n",
       "      <td>1.400000</td>\n",
       "    </tr>\n",
       "    <tr>\n",
       "      <th>3</th>\n",
       "      <td>4.0</td>\n",
       "      <td>37.0</td>\n",
       "      <td>16.5</td>\n",
       "      <td>4.0</td>\n",
       "      <td>3.0</td>\n",
       "      <td>16.0</td>\n",
       "      <td>5.0</td>\n",
       "      <td>5.0</td>\n",
       "      <td>0.727273</td>\n",
       "    </tr>\n",
       "    <tr>\n",
       "      <th>4</th>\n",
       "      <td>5.0</td>\n",
       "      <td>27.0</td>\n",
       "      <td>9.0</td>\n",
       "      <td>1.0</td>\n",
       "      <td>1.0</td>\n",
       "      <td>14.0</td>\n",
       "      <td>3.0</td>\n",
       "      <td>4.0</td>\n",
       "      <td>4.666666</td>\n",
       "    </tr>\n",
       "  </tbody>\n",
       "</table>\n",
       "</div>"
      ],
      "text/plain": [
       "   rate_marriage   age  yrs_married  children  religious  educ  occupation  \\\n",
       "0            3.0  32.0          9.0       3.0        3.0  17.0         2.0   \n",
       "1            3.0  27.0         13.0       3.0        1.0  14.0         3.0   \n",
       "2            4.0  22.0          2.5       0.0        1.0  16.0         3.0   \n",
       "3            4.0  37.0         16.5       4.0        3.0  16.0         5.0   \n",
       "4            5.0  27.0          9.0       1.0        1.0  14.0         3.0   \n",
       "\n",
       "   occupation_husb   affairs  \n",
       "0              5.0  0.111111  \n",
       "1              4.0  3.230769  \n",
       "2              5.0  1.400000  \n",
       "3              5.0  0.727273  \n",
       "4              4.0  4.666666  "
      ]
     },
     "execution_count": 5,
     "metadata": {},
     "output_type": "execute_result"
    }
   ],
   "source": [
    "df.head()"
   ]
  },
  {
   "cell_type": "code",
   "execution_count": 6,
   "metadata": {},
   "outputs": [
    {
     "name": "stdout",
     "output_type": "stream",
     "text": [
      "<class 'pandas.core.frame.DataFrame'>\n",
      "RangeIndex: 6366 entries, 0 to 6365\n",
      "Data columns (total 9 columns):\n",
      "rate_marriage      6366 non-null float64\n",
      "age                6366 non-null float64\n",
      "yrs_married        6366 non-null float64\n",
      "children           6366 non-null float64\n",
      "religious          6366 non-null float64\n",
      "educ               6366 non-null float64\n",
      "occupation         6366 non-null float64\n",
      "occupation_husb    6366 non-null float64\n",
      "affairs            6366 non-null float64\n",
      "dtypes: float64(9)\n",
      "memory usage: 447.7 KB\n"
     ]
    }
   ],
   "source": [
    "df.info()"
   ]
  },
  {
   "cell_type": "code",
   "execution_count": 7,
   "metadata": {},
   "outputs": [],
   "source": [
    "#Create a dummy variable for the women who had affair\n",
    "def affair_check(x):\n",
    "    if x != 0:\n",
    "        return 1\n",
    "    else:\n",
    "        return 0"
   ]
  },
  {
   "cell_type": "code",
   "execution_count": 8,
   "metadata": {},
   "outputs": [],
   "source": [
    "df['Had_Affair'] = df['affairs'].apply(affair_check)"
   ]
  },
  {
   "cell_type": "code",
   "execution_count": 9,
   "metadata": {},
   "outputs": [
    {
     "data": {
      "text/plain": [
       "0    4313\n",
       "1    2053\n",
       "Name: Had_Affair, dtype: int64"
      ]
     },
     "execution_count": 9,
     "metadata": {},
     "output_type": "execute_result"
    }
   ],
   "source": [
    "df['Had_Affair'].value_counts()"
   ]
  },
  {
   "cell_type": "code",
   "execution_count": 10,
   "metadata": {},
   "outputs": [],
   "source": [
    "#Create dummies for occupations\n",
    "occ_dummies = pd.get_dummies(df['occupation'])\n",
    "hus_occ_dummies = pd.get_dummies(df['occupation_husb'])"
   ]
  },
  {
   "cell_type": "code",
   "execution_count": 11,
   "metadata": {},
   "outputs": [],
   "source": [
    "occ_dummies.columns = ['occ1','occ2','occ3','occ4','occ5','occ6']\n",
    "hus_occ_dummies.columns = ['hocc1','hocc2','hocc3','hocc4','hocc5','hocc6']"
   ]
  },
  {
   "cell_type": "code",
   "execution_count": 12,
   "metadata": {},
   "outputs": [],
   "source": [
    "X = df.drop(['occupation','occupation_husb','Had_Affair'],axis=1)\n",
    "#X=df.drop(['Had_Affair','affairs'],axis=1)"
   ]
  },
  {
   "cell_type": "code",
   "execution_count": 13,
   "metadata": {},
   "outputs": [],
   "source": [
    "dummies = pd.concat([occ_dummies,hus_occ_dummies],axis=1)"
   ]
  },
  {
   "cell_type": "code",
   "execution_count": 14,
   "metadata": {},
   "outputs": [],
   "source": [
    "#merge the control variables into vector X\n",
    "X = pd.concat([X,dummies],axis=1)"
   ]
  },
  {
   "cell_type": "code",
   "execution_count": 15,
   "metadata": {},
   "outputs": [
    {
     "data": {
      "text/html": [
       "<div>\n",
       "<style scoped>\n",
       "    .dataframe tbody tr th:only-of-type {\n",
       "        vertical-align: middle;\n",
       "    }\n",
       "\n",
       "    .dataframe tbody tr th {\n",
       "        vertical-align: top;\n",
       "    }\n",
       "\n",
       "    .dataframe thead th {\n",
       "        text-align: right;\n",
       "    }\n",
       "</style>\n",
       "<table border=\"1\" class=\"dataframe\">\n",
       "  <thead>\n",
       "    <tr style=\"text-align: right;\">\n",
       "      <th></th>\n",
       "      <th>rate_marriage</th>\n",
       "      <th>age</th>\n",
       "      <th>yrs_married</th>\n",
       "      <th>children</th>\n",
       "      <th>religious</th>\n",
       "      <th>educ</th>\n",
       "      <th>occ2</th>\n",
       "      <th>occ3</th>\n",
       "      <th>occ4</th>\n",
       "      <th>occ5</th>\n",
       "      <th>occ6</th>\n",
       "      <th>hocc2</th>\n",
       "      <th>hocc3</th>\n",
       "      <th>hocc4</th>\n",
       "      <th>hocc5</th>\n",
       "      <th>hocc6</th>\n",
       "    </tr>\n",
       "  </thead>\n",
       "  <tbody>\n",
       "    <tr>\n",
       "      <th>0</th>\n",
       "      <td>3.0</td>\n",
       "      <td>32.0</td>\n",
       "      <td>9.0</td>\n",
       "      <td>3.0</td>\n",
       "      <td>3.0</td>\n",
       "      <td>17.0</td>\n",
       "      <td>1</td>\n",
       "      <td>0</td>\n",
       "      <td>0</td>\n",
       "      <td>0</td>\n",
       "      <td>0</td>\n",
       "      <td>0</td>\n",
       "      <td>0</td>\n",
       "      <td>0</td>\n",
       "      <td>1</td>\n",
       "      <td>0</td>\n",
       "    </tr>\n",
       "    <tr>\n",
       "      <th>1</th>\n",
       "      <td>3.0</td>\n",
       "      <td>27.0</td>\n",
       "      <td>13.0</td>\n",
       "      <td>3.0</td>\n",
       "      <td>1.0</td>\n",
       "      <td>14.0</td>\n",
       "      <td>0</td>\n",
       "      <td>1</td>\n",
       "      <td>0</td>\n",
       "      <td>0</td>\n",
       "      <td>0</td>\n",
       "      <td>0</td>\n",
       "      <td>0</td>\n",
       "      <td>1</td>\n",
       "      <td>0</td>\n",
       "      <td>0</td>\n",
       "    </tr>\n",
       "    <tr>\n",
       "      <th>2</th>\n",
       "      <td>4.0</td>\n",
       "      <td>22.0</td>\n",
       "      <td>2.5</td>\n",
       "      <td>0.0</td>\n",
       "      <td>1.0</td>\n",
       "      <td>16.0</td>\n",
       "      <td>0</td>\n",
       "      <td>1</td>\n",
       "      <td>0</td>\n",
       "      <td>0</td>\n",
       "      <td>0</td>\n",
       "      <td>0</td>\n",
       "      <td>0</td>\n",
       "      <td>0</td>\n",
       "      <td>1</td>\n",
       "      <td>0</td>\n",
       "    </tr>\n",
       "    <tr>\n",
       "      <th>3</th>\n",
       "      <td>4.0</td>\n",
       "      <td>37.0</td>\n",
       "      <td>16.5</td>\n",
       "      <td>4.0</td>\n",
       "      <td>3.0</td>\n",
       "      <td>16.0</td>\n",
       "      <td>0</td>\n",
       "      <td>0</td>\n",
       "      <td>0</td>\n",
       "      <td>1</td>\n",
       "      <td>0</td>\n",
       "      <td>0</td>\n",
       "      <td>0</td>\n",
       "      <td>0</td>\n",
       "      <td>1</td>\n",
       "      <td>0</td>\n",
       "    </tr>\n",
       "    <tr>\n",
       "      <th>4</th>\n",
       "      <td>5.0</td>\n",
       "      <td>27.0</td>\n",
       "      <td>9.0</td>\n",
       "      <td>1.0</td>\n",
       "      <td>1.0</td>\n",
       "      <td>14.0</td>\n",
       "      <td>0</td>\n",
       "      <td>1</td>\n",
       "      <td>0</td>\n",
       "      <td>0</td>\n",
       "      <td>0</td>\n",
       "      <td>0</td>\n",
       "      <td>0</td>\n",
       "      <td>1</td>\n",
       "      <td>0</td>\n",
       "      <td>0</td>\n",
       "    </tr>\n",
       "  </tbody>\n",
       "</table>\n",
       "</div>"
      ],
      "text/plain": [
       "   rate_marriage   age  yrs_married  children  religious  educ  occ2  occ3  \\\n",
       "0            3.0  32.0          9.0       3.0        3.0  17.0     1     0   \n",
       "1            3.0  27.0         13.0       3.0        1.0  14.0     0     1   \n",
       "2            4.0  22.0          2.5       0.0        1.0  16.0     0     1   \n",
       "3            4.0  37.0         16.5       4.0        3.0  16.0     0     0   \n",
       "4            5.0  27.0          9.0       1.0        1.0  14.0     0     1   \n",
       "\n",
       "   occ4  occ5  occ6  hocc2  hocc3  hocc4  hocc5  hocc6  \n",
       "0     0     0     0      0      0      0      1      0  \n",
       "1     0     0     0      0      0      1      0      0  \n",
       "2     0     0     0      0      0      0      1      0  \n",
       "3     0     1     0      0      0      0      1      0  \n",
       "4     0     0     0      0      0      1      0      0  "
      ]
     },
     "execution_count": 15,
     "metadata": {},
     "output_type": "execute_result"
    }
   ],
   "source": [
    "#Drop reference group dummy variables to avoid collinearity problem\n",
    "X = X.drop(['occ1','hocc1','affairs'],axis=1)\n",
    "X.head()"
   ]
  },
  {
   "cell_type": "code",
   "execution_count": 16,
   "metadata": {},
   "outputs": [],
   "source": [
    "#Define the dependent variable (in this case binary outcome variable, 1 = Had Affair, 0 = Had no Affair)\n",
    "Y = df.Had_Affair"
   ]
  },
  {
   "cell_type": "code",
   "execution_count": 17,
   "metadata": {},
   "outputs": [],
   "source": [
    "#Implement train-test split\n",
    "X_train, X_test, y_train, y_test = train_test_split(X, Y, test_size=0.25, random_state=0)"
   ]
  },
  {
   "cell_type": "code",
   "execution_count": 18,
   "metadata": {},
   "outputs": [
    {
     "data": {
      "text/plain": [
       "4774"
      ]
     },
     "execution_count": 18,
     "metadata": {},
     "output_type": "execute_result"
    }
   ],
   "source": [
    "len(X_train)"
   ]
  },
  {
   "cell_type": "code",
   "execution_count": 19,
   "metadata": {},
   "outputs": [
    {
     "data": {
      "text/plain": [
       "1592"
      ]
     },
     "execution_count": 19,
     "metadata": {},
     "output_type": "execute_result"
    }
   ],
   "source": [
    "len(X_test)"
   ]
  },
  {
   "cell_type": "code",
   "execution_count": 20,
   "metadata": {},
   "outputs": [
    {
     "data": {
      "text/plain": [
       "(4774, 16)"
      ]
     },
     "execution_count": 20,
     "metadata": {},
     "output_type": "execute_result"
    }
   ],
   "source": [
    "X_train.shape"
   ]
  },
  {
   "cell_type": "code",
   "execution_count": 21,
   "metadata": {},
   "outputs": [],
   "source": [
    "mean = X_train.mean(axis=0)\n",
    "X_train -= mean\n",
    "std = X_train.std(axis=0)\n",
    "X_train /= std\n",
    "\n",
    "X_test -= mean\n",
    "X_test /= std"
   ]
  },
  {
   "cell_type": "markdown",
   "metadata": {},
   "source": [
    "# model_1"
   ]
  },
  {
   "cell_type": "code",
   "execution_count": 75,
   "metadata": {},
   "outputs": [],
   "source": [
    "model = Sequential()\n",
    "model.add(Dense(64, activation='relu', input_shape=(X_train.shape[1],),kernel_regularizer=l2(0.002)))\n",
    "model.add(Dropout(0.3))\n",
    "#model.add(Dense(16, activation='relu'))\n",
    "model.add(Dense(16, activation='relu'))\n",
    "model.add(Dropout(0.3))\n",
    "model.add(Dense(4, activation='relu'))\n",
    "model.add(Dense(1, activation='sigmoid',kernel_regularizer=l2(0.001)))"
   ]
  },
  {
   "cell_type": "code",
   "execution_count": 76,
   "metadata": {},
   "outputs": [],
   "source": [
    "model.compile(optimizer='Adam',\n",
    "              loss='binary_crossentropy',\n",
    "              metrics=['accuracy'])"
   ]
  },
  {
   "cell_type": "code",
   "execution_count": 77,
   "metadata": {},
   "outputs": [
    {
     "name": "stdout",
     "output_type": "stream",
     "text": [
      "Train on 4774 samples, validate on 1592 samples\n",
      "Epoch 1/30\n",
      "4774/4774 [==============================] - 2s 419us/step - loss: 0.6760 - acc: 0.6667 - val_loss: 0.6119 - val_acc: 0.7073\n",
      "Epoch 2/30\n",
      "4774/4774 [==============================] - 0s 70us/step - loss: 0.6366 - acc: 0.6845 - val_loss: 0.5972 - val_acc: 0.7161\n",
      "Epoch 3/30\n",
      "4774/4774 [==============================] - 0s 70us/step - loss: 0.6138 - acc: 0.7021 - val_loss: 0.5886 - val_acc: 0.7268\n",
      "Epoch 4/30\n",
      "4774/4774 [==============================] - 0s 80us/step - loss: 0.6082 - acc: 0.7065 - val_loss: 0.5797 - val_acc: 0.7343\n",
      "Epoch 5/30\n",
      "4774/4774 [==============================] - 0s 70us/step - loss: 0.5998 - acc: 0.7097 - val_loss: 0.5735 - val_acc: 0.7318\n",
      "Epoch 6/30\n",
      "4774/4774 [==============================] - 0s 89us/step - loss: 0.5898 - acc: 0.7168 - val_loss: 0.5704 - val_acc: 0.7274\n",
      "Epoch 7/30\n",
      "4774/4774 [==============================] - 0s 92us/step - loss: 0.5850 - acc: 0.7155 - val_loss: 0.5639 - val_acc: 0.7299\n",
      "Epoch 8/30\n",
      "4774/4774 [==============================] - 0s 80us/step - loss: 0.5785 - acc: 0.7212 - val_loss: 0.5636 - val_acc: 0.7255\n",
      "Epoch 9/30\n",
      "4774/4774 [==============================] - 0s 80us/step - loss: 0.5740 - acc: 0.7248 - val_loss: 0.5597 - val_acc: 0.7286\n",
      "Epoch 10/30\n",
      "4774/4774 [==============================] - 0s 97us/step - loss: 0.5731 - acc: 0.7256 - val_loss: 0.5580 - val_acc: 0.7286\n",
      "Epoch 11/30\n",
      "4774/4774 [==============================] - 0s 71us/step - loss: 0.5682 - acc: 0.7264 - val_loss: 0.5556 - val_acc: 0.7324\n",
      "Epoch 12/30\n",
      "4774/4774 [==============================] - 0s 81us/step - loss: 0.5663 - acc: 0.7248 - val_loss: 0.5552 - val_acc: 0.7368\n",
      "Epoch 13/30\n",
      "4774/4774 [==============================] - 0s 82us/step - loss: 0.5665 - acc: 0.7227 - val_loss: 0.5545 - val_acc: 0.7356\n",
      "Epoch 14/30\n",
      "4774/4774 [==============================] - 0s 77us/step - loss: 0.5662 - acc: 0.7202 - val_loss: 0.5558 - val_acc: 0.7305\n",
      "Epoch 15/30\n",
      "4774/4774 [==============================] - 0s 81us/step - loss: 0.5634 - acc: 0.7281 - val_loss: 0.5500 - val_acc: 0.7324\n",
      "Epoch 16/30\n",
      "4774/4774 [==============================] - 0s 79us/step - loss: 0.5591 - acc: 0.7235 - val_loss: 0.5545 - val_acc: 0.7280\n",
      "Epoch 17/30\n",
      "4774/4774 [==============================] - 0s 80us/step - loss: 0.5595 - acc: 0.7233 - val_loss: 0.5486 - val_acc: 0.7305\n",
      "Epoch 18/30\n",
      "4774/4774 [==============================] - 0s 78us/step - loss: 0.5576 - acc: 0.7262 - val_loss: 0.5465 - val_acc: 0.7280\n",
      "Epoch 19/30\n",
      "4774/4774 [==============================] - 0s 77us/step - loss: 0.5589 - acc: 0.7254 - val_loss: 0.5463 - val_acc: 0.7280\n",
      "Epoch 20/30\n",
      "4774/4774 [==============================] - 0s 73us/step - loss: 0.5578 - acc: 0.7266 - val_loss: 0.5474 - val_acc: 0.7343\n",
      "Epoch 21/30\n",
      "4774/4774 [==============================] - 0s 64us/step - loss: 0.5521 - acc: 0.7254 - val_loss: 0.5472 - val_acc: 0.7274\n",
      "Epoch 22/30\n",
      "4774/4774 [==============================] - 0s 77us/step - loss: 0.5519 - acc: 0.7231 - val_loss: 0.5433 - val_acc: 0.7337\n",
      "Epoch 23/30\n",
      "4774/4774 [==============================] - 0s 69us/step - loss: 0.5555 - acc: 0.7239 - val_loss: 0.5450 - val_acc: 0.7299\n",
      "Epoch 24/30\n",
      "4774/4774 [==============================] - 0s 80us/step - loss: 0.5527 - acc: 0.7277 - val_loss: 0.5433 - val_acc: 0.7293\n",
      "Epoch 25/30\n",
      "4774/4774 [==============================] - 0s 70us/step - loss: 0.5531 - acc: 0.7227 - val_loss: 0.5457 - val_acc: 0.7274\n",
      "Epoch 26/30\n",
      "4774/4774 [==============================] - 0s 72us/step - loss: 0.5487 - acc: 0.7287 - val_loss: 0.5449 - val_acc: 0.7249\n",
      "Epoch 27/30\n",
      "4774/4774 [==============================] - 0s 64us/step - loss: 0.5529 - acc: 0.7289 - val_loss: 0.5442 - val_acc: 0.7268\n",
      "Epoch 28/30\n",
      "4774/4774 [==============================] - 0s 66us/step - loss: 0.5497 - acc: 0.7285 - val_loss: 0.5464 - val_acc: 0.7198\n",
      "Epoch 29/30\n",
      "4774/4774 [==============================] - 0s 65us/step - loss: 0.5456 - acc: 0.7300 - val_loss: 0.5447 - val_acc: 0.7224\n",
      "Epoch 30/30\n",
      "4774/4774 [==============================] - 0s 74us/step - loss: 0.5506 - acc: 0.7222 - val_loss: 0.5425 - val_acc: 0.7286\n"
     ]
    }
   ],
   "source": [
    "history = model.fit(X_train,y_train,epochs=30,shuffle=True,validation_data=(X_test,y_test))"
   ]
  },
  {
   "cell_type": "code",
   "execution_count": 79,
   "metadata": {},
   "outputs": [
    {
     "data": {
      "image/png": "[encoded data removed]",
      "text/plain": [
       "<Figure size 432x288 with 1 Axes>"
      ]
     },
     "metadata": {},
     "output_type": "display_data"
    }
   ],
   "source": [
    "plt.plot(history.history['acc'])\n",
    "plt.plot(history.history['val_acc'])\n",
    "plt.title('model accuracy')\n",
    "plt.ylabel('accuracy')\n",
    "plt.xlabel('epoch')\n",
    "plt.legend(['train', 'test'], loc='upper left')\n",
    "plt.show()"
   ]
  },
  {
   "cell_type": "code",
   "execution_count": 80,
   "metadata": {},
   "outputs": [
    {
     "name": "stdout",
     "output_type": "stream",
     "text": [
      "Train:  0.7717452701060494\n",
      "Test:  0.7535116407982261\n"
     ]
    }
   ],
   "source": [
    "print(\"Train: \",roc_auc_score(y_train, model.predict_proba(X_train)))\n",
    "print(\"Test: \",roc_auc_score(y_test,model.predict_proba(X_test)))"
   ]
  },
  {
   "cell_type": "markdown",
   "metadata": {},
   "source": [
    "# model_2"
   ]
  },
  {
   "cell_type": "code",
   "execution_count": 66,
   "metadata": {},
   "outputs": [],
   "source": [
    "model = Sequential()\n",
    "model.add(Dense(64, activation='relu', input_shape=(X_train.shape[1],),kernel_regularizer=l2(0.002)))\n",
    "model.add(Dropout(0.3))\n",
    "model.add(Dense(32, activation='relu'))\n",
    "model.add(Dropout(0.3))\n",
    "model.add(Dense(16, activation='relu',kernel_regularizer=l2(0.002)))\n",
    "model.add(Dropout(0.2))\n",
    "model.add(Dense(4, activation='relu'))\n",
    "model.add(Dense(1, activation='sigmoid',kernel_regularizer=l2(0.001)))"
   ]
  },
  {
   "cell_type": "code",
   "execution_count": 71,
   "metadata": {},
   "outputs": [],
   "source": [
    "model.compile(optimizer='rmsprop',\n",
    "              loss='binary_crossentropy',\n",
    "              metrics=['accuracy'])"
   ]
  },
  {
   "cell_type": "code",
   "execution_count": 72,
   "metadata": {},
   "outputs": [
    {
     "name": "stdout",
     "output_type": "stream",
     "text": [
      "Train on 4774 samples, validate on 1592 samples\n",
      "Epoch 1/30\n",
      "4774/4774 [==============================] - 2s 405us/step - loss: 0.5508 - acc: 0.7237 - val_loss: 0.5398 - val_acc: 0.7293\n",
      "Epoch 2/30\n",
      "4774/4774 [==============================] - 0s 80us/step - loss: 0.5475 - acc: 0.7275 - val_loss: 0.5421 - val_acc: 0.7318\n",
      "Epoch 3/30\n",
      "4774/4774 [==============================] - 0s 94us/step - loss: 0.5492 - acc: 0.7306 - val_loss: 0.5393 - val_acc: 0.7318\n",
      "Epoch 4/30\n",
      "4774/4774 [==============================] - 0s 94us/step - loss: 0.5470 - acc: 0.7283 - val_loss: 0.5410 - val_acc: 0.7261\n",
      "Epoch 5/30\n",
      "4774/4774 [==============================] - 0s 81us/step - loss: 0.5520 - acc: 0.7283 - val_loss: 0.5418 - val_acc: 0.7293\n",
      "Epoch 6/30\n",
      "4774/4774 [==============================] - 0s 89us/step - loss: 0.5477 - acc: 0.7275 - val_loss: 0.5409 - val_acc: 0.7286\n",
      "Epoch 7/30\n",
      "4774/4774 [==============================] - 0s 100us/step - loss: 0.5488 - acc: 0.7229 - val_loss: 0.5409 - val_acc: 0.7305\n",
      "Epoch 8/30\n",
      "4774/4774 [==============================] - 0s 100us/step - loss: 0.5471 - acc: 0.7336 - val_loss: 0.5438 - val_acc: 0.7249\n",
      "Epoch 9/30\n",
      "4774/4774 [==============================] - 0s 84us/step - loss: 0.5466 - acc: 0.7285 - val_loss: 0.5433 - val_acc: 0.7299\n",
      "Epoch 10/30\n",
      "4774/4774 [==============================] - 0s 81us/step - loss: 0.5473 - acc: 0.7292 - val_loss: 0.5448 - val_acc: 0.7242\n",
      "Epoch 11/30\n",
      "4774/4774 [==============================] - 0s 81us/step - loss: 0.5481 - acc: 0.7266 - val_loss: 0.5440 - val_acc: 0.7198\n",
      "Epoch 12/30\n",
      "4774/4774 [==============================] - 0s 80us/step - loss: 0.5496 - acc: 0.7277 - val_loss: 0.5431 - val_acc: 0.7268\n",
      "Epoch 13/30\n",
      "4774/4774 [==============================] - 0s 96us/step - loss: 0.5498 - acc: 0.7310 - val_loss: 0.5476 - val_acc: 0.7268\n",
      "Epoch 14/30\n",
      "4774/4774 [==============================] - 0s 82us/step - loss: 0.5484 - acc: 0.7340 - val_loss: 0.5443 - val_acc: 0.7230\n",
      "Epoch 15/30\n",
      "4774/4774 [==============================] - 0s 101us/step - loss: 0.5487 - acc: 0.7260 - val_loss: 0.5441 - val_acc: 0.7299\n",
      "Epoch 16/30\n",
      "4774/4774 [==============================] - 0s 102us/step - loss: 0.5458 - acc: 0.7287 - val_loss: 0.5413 - val_acc: 0.7280\n",
      "Epoch 17/30\n",
      "4774/4774 [==============================] - 0s 98us/step - loss: 0.5458 - acc: 0.7298 - val_loss: 0.5431 - val_acc: 0.7305\n",
      "Epoch 18/30\n",
      "4774/4774 [==============================] - 0s 96us/step - loss: 0.5465 - acc: 0.7321 - val_loss: 0.5440 - val_acc: 0.7305\n",
      "Epoch 19/30\n",
      "4774/4774 [==============================] - 0s 81us/step - loss: 0.5451 - acc: 0.7277 - val_loss: 0.5474 - val_acc: 0.7224\n",
      "Epoch 20/30\n",
      "4774/4774 [==============================] - 0s 96us/step - loss: 0.5467 - acc: 0.7317 - val_loss: 0.5456 - val_acc: 0.7249\n",
      "Epoch 21/30\n",
      "4774/4774 [==============================] - 0s 100us/step - loss: 0.5485 - acc: 0.7325 - val_loss: 0.5467 - val_acc: 0.7255\n",
      "Epoch 22/30\n",
      "4774/4774 [==============================] - 1s 110us/step - loss: 0.5471 - acc: 0.7306 - val_loss: 0.5485 - val_acc: 0.7236\n",
      "Epoch 23/30\n",
      "4774/4774 [==============================] - 0s 91us/step - loss: 0.5476 - acc: 0.7371 - val_loss: 0.5468 - val_acc: 0.7299\n",
      "Epoch 24/30\n",
      "4774/4774 [==============================] - 0s 77us/step - loss: 0.5456 - acc: 0.7344 - val_loss: 0.5467 - val_acc: 0.7242\n",
      "Epoch 25/30\n",
      "4774/4774 [==============================] - 0s 80us/step - loss: 0.5455 - acc: 0.7331 - val_loss: 0.5453 - val_acc: 0.7293\n",
      "Epoch 26/30\n",
      "4774/4774 [==============================] - 0s 84us/step - loss: 0.5483 - acc: 0.7348 - val_loss: 0.5475 - val_acc: 0.7280\n",
      "Epoch 27/30\n",
      "4774/4774 [==============================] - 0s 86us/step - loss: 0.5443 - acc: 0.7371 - val_loss: 0.5503 - val_acc: 0.7255\n",
      "Epoch 28/30\n",
      "4774/4774 [==============================] - 0s 80us/step - loss: 0.5472 - acc: 0.7342 - val_loss: 0.5489 - val_acc: 0.7337\n",
      "Epoch 29/30\n",
      "4774/4774 [==============================] - 0s 84us/step - loss: 0.5473 - acc: 0.7313 - val_loss: 0.5495 - val_acc: 0.7305\n",
      "Epoch 30/30\n",
      "4774/4774 [==============================] - 0s 104us/step - loss: 0.5485 - acc: 0.7298 - val_loss: 0.5475 - val_acc: 0.7312\n"
     ]
    }
   ],
   "source": [
    "history = model.fit(X_train,y_train,epochs=30,shuffle=True,validation_data=(X_test,y_test))"
   ]
  },
  {
   "cell_type": "code",
   "execution_count": 73,
   "metadata": {},
   "outputs": [
    {
     "data": {
      "image/png": "[encoded data removed]",
      "text/plain": [
       "<Figure size 432x288 with 1 Axes>"
      ]
     },
     "metadata": {},
     "output_type": "display_data"
    }
   ],
   "source": [
    "plt.plot(history.history['acc'])\n",
    "plt.plot(history.history['val_acc'])\n",
    "plt.title('model accuracy')\n",
    "plt.ylabel('accuracy')\n",
    "plt.xlabel('epoch')\n",
    "plt.legend(['train', 'test'], loc='upper left')\n",
    "plt.show()"
   ]
  },
  {
   "cell_type": "code",
   "execution_count": 74,
   "metadata": {},
   "outputs": [
    {
     "name": "stdout",
     "output_type": "stream",
     "text": [
      "Train:  0.7770762515270184\n",
      "Test:  0.7495953436807096\n"
     ]
    }
   ],
   "source": [
    "print(\"Train: \",roc_auc_score(y_train, model.predict_proba(X_train)))\n",
    "print(\"Test: \",roc_auc_score(y_test,model.predict_proba(X_test)))"
   ]
  }
 ],
 "metadata": {
  "kernelspec": {
   "display_name": "Python 3",
   "language": "python",
   "name": "python3"
  },
  "language_info": {
   "codemirror_mode": {
    "name": "ipython",
    "version": 3
   },
   "file_extension": ".py",
   "mimetype": "text/x-python",
   "name": "python",
   "nbconvert_exporter": "python",
   "pygments_lexer": "ipython3",
   "version": "3.6.5"
  }
 },
 "nbformat": 4,
 "nbformat_minor": 2
}
